{
 "cells": [
  {
   "cell_type": "code",
   "execution_count": 1,
   "id": "59bde403-2863-45eb-bef5-76546d68c84f",
   "metadata": {},
   "outputs": [],
   "source": [
    "import numpy as np\n",
    "import pandas as pd\n",
    "import glob\n",
    "import os"
   ]
  },
  {
   "cell_type": "code",
   "execution_count": 2,
   "id": "ce66fb62-548a-44bc-ad21-1da549298786",
   "metadata": {},
   "outputs": [],
   "source": [
    "temp_dir = '/Volumes/Elements/URycki/Repos/temp-data/'"
   ]
  },
  {
   "cell_type": "code",
   "execution_count": 3,
   "id": "853dbfb9-d7a4-40c0-9701-a72405fc5a55",
   "metadata": {},
   "outputs": [
    {
     "data": {
      "text/plain": [
       "'/Volumes/Elements/URycki/Repos/temp-data'"
      ]
     },
     "execution_count": 3,
     "metadata": {},
     "output_type": "execute_result"
    }
   ],
   "source": [
    "pwd"
   ]
  },
  {
   "cell_type": "markdown",
   "id": "7ebe05ab-e117-4c31-810c-31edc4059766",
   "metadata": {},
   "source": [
    "### Covariate anomalies"
   ]
  },
  {
   "cell_type": "code",
   "execution_count": 4,
   "id": "cb6cb71e-528c-44f5-b9c7-e1c2f33862da",
   "metadata": {},
   "outputs": [],
   "source": [
    "%load_ext rpy2.ipython"
   ]
  },
  {
   "cell_type": "code",
   "execution_count": 5,
   "id": "eca53f31-d38e-436c-971d-e90fbb32c24c",
   "metadata": {},
   "outputs": [
    {
     "name": "stderr",
     "output_type": "stream",
     "text": [
      "R[write to console]: Installing package into ‘/Users/dawn.urycki/Library/R/x86_64/4.3/library’\n",
      "(as ‘lib’ is unspecified)\n",
      "\n"
     ]
    },
    {
     "name": "stdout",
     "output_type": "stream",
     "text": [
      "--- Please select a CRAN mirror for use in this session ---\n",
      "Secure CRAN mirrors \n",
      "\n",
      " 1: 0-Cloud [https]                   2: Australia (Canberra) [https]   \n",
      " 3: Australia (Melbourne 1) [https]   4: Australia (Melbourne 2) [https]\n",
      " 5: Austria (Wien) [https]            6: Belgium (Brussels) [https]     \n",
      " 7: Brazil (PR) [https]               8: Brazil (SP 1) [https]          \n",
      " 9: Brazil (SP 2) [https]            10: Bulgaria [https]               \n",
      "11: Canada (MB) [https]              12: Canada (ON 1) [https]          \n",
      "13: Canada (ON 2) [https]            14: Chile (Santiago) [https]       \n",
      "15: China (Beijing 1) [https]        16: China (Beijing 2) [https]      \n",
      "17: China (Beijing 3) [https]        18: China (Hefei) [https]          \n",
      "19: China (Hong Kong) [https]        20: China (Jinan) [https]          \n",
      "21: China (Lanzhou) [https]          22: China (Nanjing) [https]        \n",
      "23: China (Shanghai 2) [https]       24: China (Shenzhen) [https]       \n",
      "25: China (Wuhan) [https]            26: Colombia (Cali) [https]        \n",
      "27: Cyprus [https]                   28: Czech Republic [https]         \n",
      "29: Denmark [https]                  30: East Asia [https]              \n",
      "31: Ecuador (Cuenca) [https]         32: Finland (Helsinki) [https]     \n",
      "33: France (Lyon 1) [https]          34: France (Lyon 2) [https]        \n",
      "35: France (Paris 1) [https]         36: Germany (Erlangen) [https]     \n",
      "37: Germany (Göttingen) [https]      38: Germany (Leipzig) [https]      \n",
      "39: Germany (Münster) [https]        40: Greece [https]                 \n",
      "41: Hungary [https]                  42: Iceland [https]                \n",
      "43: India (Bengaluru) [https]        44: India (Bhubaneswar) [https]    \n",
      "45: Indonesia (Banda Aceh) [https]   46: Italy (Milano) [https]         \n",
      "47: Italy (Padua) [https]            48: Japan (Yonezawa) [https]       \n",
      "49: Korea (Gyeongsan-si) [https]     50: Mexico (Mexico City) [https]   \n",
      "51: Mexico (Texcoco) [https]         52: Morocco [https]                \n",
      "53: Netherlands (Dronten) [https]    54: New Zealand [https]            \n",
      "55: Norway [https]                   56: Poland [https]                 \n",
      "57: Saudi Arabia (Riyadh) [https]    58: Spain (A Coruña) [https]       \n",
      "59: Spain (Madrid) [https]           60: Sweden (Umeå) [https]          \n",
      "61: Switzerland (Zurich 1) [https]   62: Taiwan (Taipei) [https]        \n",
      "63: Turkey (Denizli) [https]         64: UK (Bristol) [https]           \n",
      "65: UK (London 1) [https]            66: USA (IA) [https]               \n",
      "67: USA (MI) [https]                 68: USA (MO) [https]               \n",
      "69: USA (OH) [https]                 70: USA (OR) [https]               \n",
      "71: USA (PA 1) [https]               72: USA (TN) [https]               \n",
      "73: USA (UT) [https]                 74: United Arab Emirates [https]   \n",
      "75: Uruguay [https]                  76: (other mirrors)                \n",
      "\n",
      "\n"
     ]
    },
    {
     "name": "stdin",
     "output_type": "stream",
     "text": [
      "Selection:  70\n"
     ]
    },
    {
     "name": "stderr",
     "output_type": "stream",
     "text": [
      "R[write to console]: trying URL 'https://ftp.osuosl.org/pub/cran/src/contrib/fst_0.9.8.tar.gz'\n",
      "\n",
      "R[write to console]: Content type 'application/x-gzip'\n",
      "R[write to console]:  length 274495 bytes (268 KB)\n",
      "\n",
      "R[write to console]: =\n",
      "R[write to console]: =\n",
      "R[write to console]: =\n",
      "R[write to console]: =\n",
      "R[write to console]: =\n",
      "R[write to console]: =\n",
      "R[write to console]: =\n",
      "R[write to console]: =\n",
      "R[write to console]: =\n",
      "R[write to console]: =\n",
      "R[write to console]: =\n",
      "R[write to console]: =\n",
      "R[write to console]: =\n",
      "R[write to console]: =\n",
      "R[write to console]: =\n",
      "R[write to console]: =\n",
      "R[write to console]: =\n",
      "R[write to console]: =\n",
      "R[write to console]: =\n",
      "R[write to console]: =\n",
      "R[write to console]: =\n",
      "R[write to console]: =\n",
      "R[write to console]: =\n",
      "R[write to console]: =\n",
      "R[write to console]: =\n",
      "R[write to console]: =\n",
      "R[write to console]: =\n",
      "R[write to console]: =\n",
      "R[write to console]: =\n",
      "R[write to console]: =\n",
      "R[write to console]: =\n",
      "R[write to console]: =\n",
      "R[write to console]: =\n",
      "R[write to console]: =\n",
      "R[write to console]: =\n",
      "R[write to console]: =\n",
      "R[write to console]: =\n",
      "R[write to console]: =\n",
      "R[write to console]: =\n",
      "R[write to console]: =\n",
      "R[write to console]: =\n",
      "R[write to console]: =\n",
      "R[write to console]: =\n",
      "R[write to console]: =\n",
      "R[write to console]: =\n",
      "R[write to console]: =\n",
      "R[write to console]: =\n",
      "R[write to console]: =\n",
      "R[write to console]: =\n",
      "R[write to console]: =\n",
      "R[write to console]: \n",
      "\n",
      "R[write to console]: downloaded 268 KB\n",
      "\n",
      "\n",
      "* installing *source* package ‘fst’ ...\n",
      "** package ‘fst’ successfully unpacked and MD5 sums checked\n",
      "** using staged installation\n",
      "** libs\n",
      "using C++ compiler: ‘clang version 20.1.7’\n",
      "using SDK: ‘MacOSX15.2.sdk’\n"
     ]
    },
    {
     "name": "stdout",
     "output_type": "stream",
     "text": [
      "x86_64-apple-darwin13.4.0-clang++ -std=gnu++17 -I\"/opt/miniconda3/envs/temp-data-env/lib/R/include\" -DNDEBUG  -I'/Users/dawn.urycki/Library/R/x86_64/4.3/library/Rcpp/include' -I'/Users/dawn.urycki/Library/R/x86_64/4.3/library/fstcore/include' -D_FORTIFY_SOURCE=2 -isystem /opt/miniconda3/envs/temp-data-env/include -mmacosx-version-min=10.13 -mmacosx-version-min=10.13 -I/opt/miniconda3/envs/temp-data-env/include    -fPIC  -march=core2 -mtune=haswell -mssse3 -ftree-vectorize -fPIC -fstack-protector-strong -O2 -pipe -stdlib=libc++ -fvisibility-inlines-hidden -fmessage-length=0 -isystem /opt/miniconda3/envs/temp-data-env/include -fdebug-prefix-map=/Users/runner/miniforge3/conda-bld/r-base-split_1747311155079/work=/usr/local/src/conda/r-base-4.3.3 -fdebug-prefix-map=/opt/miniconda3/envs/temp-data-env=/usr/local/src/conda-prefix  -c RcppExports.cpp -o RcppExports.o\n",
      "x86_64-apple-darwin13.4.0-clang++ -std=gnu++17 -I\"/opt/miniconda3/envs/temp-data-env/lib/R/include\" -DNDEBUG  -I'/Users/dawn.urycki/Library/R/x86_64/4.3/library/Rcpp/include' -I'/Users/dawn.urycki/Library/R/x86_64/4.3/library/fstcore/include' -D_FORTIFY_SOURCE=2 -isystem /opt/miniconda3/envs/temp-data-env/include -mmacosx-version-min=10.13 -mmacosx-version-min=10.13 -I/opt/miniconda3/envs/temp-data-env/include    -fPIC  -march=core2 -mtune=haswell -mssse3 -ftree-vectorize -fPIC -fstack-protector-strong -O2 -pipe -stdlib=libc++ -fvisibility-inlines-hidden -fmessage-length=0 -isystem /opt/miniconda3/envs/temp-data-env/include -fdebug-prefix-map=/Users/runner/miniforge3/conda-bld/r-base-split_1747311155079/work=/usr/local/src/conda/r-base-4.3.3 -fdebug-prefix-map=/opt/miniconda3/envs/temp-data-env=/usr/local/src/conda-prefix  -c flex_store.cpp -o flex_store.o\n",
      "x86_64-apple-darwin13.4.0-clang++ -std=gnu++17 -I\"/opt/miniconda3/envs/temp-data-env/lib/R/include\" -DNDEBUG  -I'/Users/dawn.urycki/Library/R/x86_64/4.3/library/Rcpp/include' -I'/Users/dawn.urycki/Library/R/x86_64/4.3/library/fstcore/include' -D_FORTIFY_SOURCE=2 -isystem /opt/miniconda3/envs/temp-data-env/include -mmacosx-version-min=10.13 -mmacosx-version-min=10.13 -I/opt/miniconda3/envs/temp-data-env/include    -fPIC  -march=core2 -mtune=haswell -mssse3 -ftree-vectorize -fPIC -fstack-protector-strong -O2 -pipe -stdlib=libc++ -fvisibility-inlines-hidden -fmessage-length=0 -isystem /opt/miniconda3/envs/temp-data-env/include -fdebug-prefix-map=/Users/runner/miniforge3/conda-bld/r-base-split_1747311155079/work=/usr/local/src/conda/r-base-4.3.3 -fdebug-prefix-map=/opt/miniconda3/envs/temp-data-env=/usr/local/src/conda-prefix  -c fst_compress.cpp -o fst_compress.o\n",
      "x86_64-apple-darwin13.4.0-clang++ -std=gnu++17 -I\"/opt/miniconda3/envs/temp-data-env/lib/R/include\" -DNDEBUG  -I'/Users/dawn.urycki/Library/R/x86_64/4.3/library/Rcpp/include' -I'/Users/dawn.urycki/Library/R/x86_64/4.3/library/fstcore/include' -D_FORTIFY_SOURCE=2 -isystem /opt/miniconda3/envs/temp-data-env/include -mmacosx-version-min=10.13 -mmacosx-version-min=10.13 -I/opt/miniconda3/envs/temp-data-env/include    -fPIC  -march=core2 -mtune=haswell -mssse3 -ftree-vectorize -fPIC -fstack-protector-strong -O2 -pipe -stdlib=libc++ -fvisibility-inlines-hidden -fmessage-length=0 -isystem /opt/miniconda3/envs/temp-data-env/include -fdebug-prefix-map=/Users/runner/miniforge3/conda-bld/r-base-split_1747311155079/work=/usr/local/src/conda/r-base-4.3.3 -fdebug-prefix-map=/opt/miniconda3/envs/temp-data-env=/usr/local/src/conda-prefix  -c openmp.cpp -o openmp.o\n",
      "x86_64-apple-darwin13.4.0-clang++ -std=gnu++17 -dynamiclib -Wl,-headerpad_max_install_names -undefined dynamic_lookup -single_module -multiply_defined suppress -L/opt/miniconda3/envs/temp-data-env/lib/R/lib -Wl,-dead_strip_dylibs -Wl,-headerpad_max_install_names -Wl,-dead_strip_dylibs -Wl,-rpath,/opt/miniconda3/envs/temp-data-env/lib -L/opt/miniconda3/envs/temp-data-env/lib -o fst.dylib RcppExports.o flex_store.o fst_compress.o openmp.o -L/opt/miniconda3/envs/temp-data-env/lib/R/lib -lR -Wl,-framework -Wl,CoreFoundation\n"
     ]
    },
    {
     "name": "stderr",
     "output_type": "stream",
     "text": [
      "installing to /Users/dawn.urycki/Library/R/x86_64/4.3/library/00LOCK-fst/00new/fst/libs\n",
      "** R\n",
      "** inst\n",
      "** byte-compile and prepare package for lazy loading\n",
      "** help\n",
      "*** installing help indices\n",
      "** building package indices\n",
      "** testing if installed package can be loaded from temporary location\n",
      "** checking absolute paths in shared objects and dynamic libraries\n",
      "** testing if installed package can be loaded from final location\n",
      "** testing if installed package keeps a record of temporary installation path\n",
      "* DONE (fst)\n",
      "R[write to console]: \n",
      "\n",
      "R[write to console]: \n",
      "R[write to console]: The downloaded source packages are in\n",
      "\t‘/private/var/folders/95/99dy_ns968195cnlvp5xhwqm0000gp/T/RtmpTMkuEx/downloaded_packages’\n",
      "R[write to console]: \n",
      "R[write to console]: \n",
      "\n"
     ]
    }
   ],
   "source": [
    "%%R\n",
    "install.packages(\"fst\")"
   ]
  },
  {
   "cell_type": "code",
   "execution_count": 6,
   "id": "efe6dc16-7ead-47e0-a281-845dea487591",
   "metadata": {},
   "outputs": [
    {
     "name": "stderr",
     "output_type": "stream",
     "text": [
      "R[write to console]: fst package v0.9.8\n",
      "\n"
     ]
    },
    {
     "name": "stdout",
     "output_type": "stream",
     "text": [
      "[1] \"/Volumes/Elements/URycki/Repos/temp-data\"\n"
     ]
    }
   ],
   "source": [
    "%%R\n",
    "library(fst)\n",
    "getwd()"
   ]
  },
  {
   "cell_type": "code",
   "execution_count": 7,
   "id": "8e409d5a-31bd-4433-af29-ddf8e7e02e69",
   "metadata": {},
   "outputs": [],
   "source": [
    "import rpy2.robjects as ro\n",
    "from rpy2.robjects import pandas2ri\n",
    "pandas2ri.activate()"
   ]
  },
  {
   "cell_type": "code",
   "execution_count": 8,
   "id": "f7e54e35-7217-4ee4-a6de-3d122eb5a53e",
   "metadata": {},
   "outputs": [
    {
     "data": {
      "text/plain": [
       "'/Volumes/Elements/URycki/Repos/temp-data/DATA/preds_retro/predictions_covariates/recovered'"
      ]
     },
     "execution_count": 8,
     "metadata": {},
     "output_type": "execute_result"
    }
   ],
   "source": [
    "dir_to_do = os.path.join(temp_dir, 'DATA', 'preds_retro', 'predictions_covariates', 'recovered')\n",
    "dir_to_do"
   ]
  },
  {
   "cell_type": "code",
   "execution_count": 9,
   "id": "236dfa5c-75ec-416e-8028-abb0bc23da43",
   "metadata": {},
   "outputs": [
    {
     "data": {
      "text/plain": [
       "['/Volumes/Elements/URycki/Repos/temp-data/DATA/preds_retro/predictions_covariates/recovered/huc_1705020201.fst',\n",
       " '/Volumes/Elements/URycki/Repos/temp-data/DATA/preds_retro/predictions_covariates/recovered/huc_1705020202.fst',\n",
       " '/Volumes/Elements/URycki/Repos/temp-data/DATA/preds_retro/predictions_covariates/recovered/huc_1705020203.fst',\n",
       " '/Volumes/Elements/URycki/Repos/temp-data/DATA/preds_retro/predictions_covariates/recovered/huc_1705020204.fst',\n",
       " '/Volumes/Elements/URycki/Repos/temp-data/DATA/preds_retro/predictions_covariates/recovered/huc_1705020205.fst',\n",
       " '/Volumes/Elements/URycki/Repos/temp-data/DATA/preds_retro/predictions_covariates/recovered/huc_1705020206.fst',\n",
       " '/Volumes/Elements/URycki/Repos/temp-data/DATA/preds_retro/predictions_covariates/recovered/huc_1705020207.fst',\n",
       " '/Volumes/Elements/URycki/Repos/temp-data/DATA/preds_retro/predictions_covariates/recovered/huc_1705020208.fst',\n",
       " '/Volumes/Elements/URycki/Repos/temp-data/DATA/preds_retro/predictions_covariates/recovered/huc_1705020301.fst',\n",
       " '/Volumes/Elements/URycki/Repos/temp-data/DATA/preds_retro/predictions_covariates/recovered/huc_1705020302.fst',\n",
       " '/Volumes/Elements/URycki/Repos/temp-data/DATA/preds_retro/predictions_covariates/recovered/huc_1705020303.fst',\n",
       " '/Volumes/Elements/URycki/Repos/temp-data/DATA/preds_retro/predictions_covariates/recovered/huc_1705020304.fst',\n",
       " '/Volumes/Elements/URycki/Repos/temp-data/DATA/preds_retro/predictions_covariates/recovered/huc_1705020305.fst',\n",
       " '/Volumes/Elements/URycki/Repos/temp-data/DATA/preds_retro/predictions_covariates/recovered/huc_1705020306.fst',\n",
       " '/Volumes/Elements/URycki/Repos/temp-data/DATA/preds_retro/predictions_covariates/recovered/huc_1705020307.fst',\n",
       " '/Volumes/Elements/URycki/Repos/temp-data/DATA/preds_retro/predictions_covariates/recovered/huc_1705020308.fst',\n",
       " '/Volumes/Elements/URycki/Repos/temp-data/DATA/preds_retro/predictions_covariates/recovered/huc_1705020309.fst',\n",
       " '/Volumes/Elements/URycki/Repos/temp-data/DATA/preds_retro/predictions_covariates/recovered/huc_1705020310.fst',\n",
       " '/Volumes/Elements/URycki/Repos/temp-data/DATA/preds_retro/predictions_covariates/recovered/huc_1705020311.fst',\n",
       " '/Volumes/Elements/URycki/Repos/temp-data/DATA/preds_retro/predictions_covariates/recovered/huc_1705020101.fst',\n",
       " '/Volumes/Elements/URycki/Repos/temp-data/DATA/preds_retro/predictions_covariates/recovered/huc_1705020102.fst',\n",
       " '/Volumes/Elements/URycki/Repos/temp-data/DATA/preds_retro/predictions_covariates/recovered/huc_1705020103.fst',\n",
       " '/Volumes/Elements/URycki/Repos/temp-data/DATA/preds_retro/predictions_covariates/recovered/huc_1705020104.fst',\n",
       " '/Volumes/Elements/URycki/Repos/temp-data/DATA/preds_retro/predictions_covariates/recovered/huc_1705020105.fst',\n",
       " '/Volumes/Elements/URycki/Repos/temp-data/DATA/preds_retro/predictions_covariates/recovered/huc_1705020106.fst',\n",
       " '/Volumes/Elements/URycki/Repos/temp-data/DATA/preds_retro/predictions_covariates/recovered/huc_1705020107.fst']"
      ]
     },
     "execution_count": 9,
     "metadata": {},
     "output_type": "execute_result"
    }
   ],
   "source": [
    "files_to_do = glob.glob(dir_to_do + '/*')\n",
    "files_to_do"
   ]
  },
  {
   "cell_type": "code",
   "execution_count": 10,
   "id": "ef67b5f8-20eb-4a84-be67-576091793c3a",
   "metadata": {},
   "outputs": [
    {
     "name": "stderr",
     "output_type": "stream",
     "text": [
      "R[write to console]: fstcore package v0.9.18\n",
      "\n",
      "R[write to console]: (OpenMP detected, using 16 threads)\n",
      "\n"
     ]
    },
    {
     "name": "stdout",
     "output_type": "stream",
     "text": [
      "/Volumes/Elements/URycki/Repos/temp-data/DATA/preds_retro/predictions_covariates/recovered/huc_1705020201.fst\n",
      "/Volumes/Elements/URycki/Repos/temp-data/DATA/preds_retro/predictions_covariates/recovered/huc_1705020202.fst\n",
      "/Volumes/Elements/URycki/Repos/temp-data/DATA/preds_retro/predictions_covariates/recovered/huc_1705020203.fst\n",
      "/Volumes/Elements/URycki/Repos/temp-data/DATA/preds_retro/predictions_covariates/recovered/huc_1705020204.fst\n",
      "/Volumes/Elements/URycki/Repos/temp-data/DATA/preds_retro/predictions_covariates/recovered/huc_1705020205.fst\n",
      "/Volumes/Elements/URycki/Repos/temp-data/DATA/preds_retro/predictions_covariates/recovered/huc_1705020206.fst\n",
      "/Volumes/Elements/URycki/Repos/temp-data/DATA/preds_retro/predictions_covariates/recovered/huc_1705020207.fst\n",
      "/Volumes/Elements/URycki/Repos/temp-data/DATA/preds_retro/predictions_covariates/recovered/huc_1705020208.fst\n",
      "/Volumes/Elements/URycki/Repos/temp-data/DATA/preds_retro/predictions_covariates/recovered/huc_1705020301.fst\n",
      "/Volumes/Elements/URycki/Repos/temp-data/DATA/preds_retro/predictions_covariates/recovered/huc_1705020302.fst\n",
      "/Volumes/Elements/URycki/Repos/temp-data/DATA/preds_retro/predictions_covariates/recovered/huc_1705020303.fst\n",
      "/Volumes/Elements/URycki/Repos/temp-data/DATA/preds_retro/predictions_covariates/recovered/huc_1705020304.fst\n",
      "/Volumes/Elements/URycki/Repos/temp-data/DATA/preds_retro/predictions_covariates/recovered/huc_1705020305.fst\n",
      "/Volumes/Elements/URycki/Repos/temp-data/DATA/preds_retro/predictions_covariates/recovered/huc_1705020306.fst\n",
      "/Volumes/Elements/URycki/Repos/temp-data/DATA/preds_retro/predictions_covariates/recovered/huc_1705020307.fst\n",
      "/Volumes/Elements/URycki/Repos/temp-data/DATA/preds_retro/predictions_covariates/recovered/huc_1705020308.fst\n",
      "/Volumes/Elements/URycki/Repos/temp-data/DATA/preds_retro/predictions_covariates/recovered/huc_1705020309.fst\n",
      "/Volumes/Elements/URycki/Repos/temp-data/DATA/preds_retro/predictions_covariates/recovered/huc_1705020310.fst\n",
      "/Volumes/Elements/URycki/Repos/temp-data/DATA/preds_retro/predictions_covariates/recovered/huc_1705020311.fst\n",
      "/Volumes/Elements/URycki/Repos/temp-data/DATA/preds_retro/predictions_covariates/recovered/huc_1705020101.fst\n",
      "/Volumes/Elements/URycki/Repos/temp-data/DATA/preds_retro/predictions_covariates/recovered/huc_1705020102.fst\n",
      "/Volumes/Elements/URycki/Repos/temp-data/DATA/preds_retro/predictions_covariates/recovered/huc_1705020103.fst\n",
      "/Volumes/Elements/URycki/Repos/temp-data/DATA/preds_retro/predictions_covariates/recovered/huc_1705020104.fst\n",
      "/Volumes/Elements/URycki/Repos/temp-data/DATA/preds_retro/predictions_covariates/recovered/huc_1705020105.fst\n",
      "/Volumes/Elements/URycki/Repos/temp-data/DATA/preds_retro/predictions_covariates/recovered/huc_1705020106.fst\n",
      "/Volumes/Elements/URycki/Repos/temp-data/DATA/preds_retro/predictions_covariates/recovered/huc_1705020107.fst\n",
      "CPU times: user 36min 24s, sys: 12min 50s, total: 49min 15s\n",
      "Wall time: 32min 41s\n"
     ]
    }
   ],
   "source": [
    "%%time\n",
    "fail_list = []\n",
    "\n",
    "for file in files_to_do:\n",
    "    print(file)\n",
    "    cur_huc = file[-14:-4]\n",
    "    try: df = ro.r(f\"read.fst('{file}')\")\n",
    "    except: fail_list.append(file)\n",
    "\n",
    "    df['date'] = pd.to_datetime(df['tim.year'] * 1000 + df['tim.doy'], format='%Y%j')\n",
    "    df.to_csv(os.path.join(temp_dir, 'DATA', 'preds_retro', 'predictions_covariates', 'cov_csvs', f'{cur_huc}_covs.zip'), index = False, compression = 'zip')"
   ]
  },
  {
   "cell_type": "code",
   "execution_count": null,
   "id": "18f0ac78-9b23-48b6-be27-4c1a9b2a1518",
   "metadata": {},
   "outputs": [],
   "source": []
  }
 ],
 "metadata": {
  "kernelspec": {
   "display_name": "Python 3 (ipykernel)",
   "language": "python",
   "name": "python3"
  },
  "language_info": {
   "codemirror_mode": {
    "name": "ipython",
    "version": 3
   },
   "file_extension": ".py",
   "mimetype": "text/x-python",
   "name": "python",
   "nbconvert_exporter": "python",
   "pygments_lexer": "ipython3",
   "version": "3.12.7"
  }
 },
 "nbformat": 4,
 "nbformat_minor": 5
}
